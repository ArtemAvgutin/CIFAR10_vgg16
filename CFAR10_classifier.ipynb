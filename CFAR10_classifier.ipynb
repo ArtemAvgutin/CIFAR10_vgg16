{
  "cells": [
    {
      "cell_type": "code",
      "execution_count": null,
      "id": "00838db4",
      "metadata": {
        "id": "00838db4"
      },
      "outputs": [],
      "source": [
        "import numpy as np\n",
        "import math\n",
        "import torch\n",
        "import torchvision\n",
        "import torchvision.transforms as transforms\n",
        "\n",
        "\n",
        "from sklearn.model_selection import train_test_split\n",
        "\n",
        "import seaborn as sns\n",
        "import matplotlib.pyplot as plt\n",
        "%matplotlib inline"
      ]
    },
    {
      "cell_type": "markdown",
      "id": "17a4ed05",
      "metadata": {
        "id": "17a4ed05"
      },
      "source": [
        "# Загрузка датасета CIFAR10"
      ]
    },
    {
      "cell_type": "code",
      "execution_count": null,
      "id": "14d7d4c3",
      "metadata": {
        "id": "14d7d4c3",
        "outputId": "ac764058-3003-40c3-ab52-43c69d333944"
      },
      "outputs": [
        {
          "name": "stdout",
          "output_type": "stream",
          "text": [
            "Files already downloaded and verified\n",
            "Files already downloaded and verified\n"
          ]
        }
      ],
      "source": [
        "transform = transforms.Compose(\n",
        "    [transforms.ToTensor()\n",
        "     #transforms.Normalize((0.5, 0.5, 0.5), (0.5, 0.5, 0.5))\n",
        "    ])\n",
        "\n",
        "\n",
        "trainset = torchvision.datasets.CIFAR10(root='./data', train=True,\n",
        "                                        download=True, transform=transform)\n",
        "\n",
        "testset = torchvision.datasets.CIFAR10(root='./data', train=False,\n",
        "                                       download=True, transform=transform)\n",
        "\n",
        "\n",
        "classes = ('plane', 'car', 'bird', 'cat',\n",
        "           'deer', 'dog', 'frog', 'horse', 'ship', 'truck')"
      ]
    },
    {
      "cell_type": "markdown",
      "id": "c72acc16",
      "metadata": {
        "id": "c72acc16"
      },
      "source": [
        "## Определение загрузчиков данных (оставим значение батча равное 4, чтобы не приходилось долго ждать завершение обучения, т.к. загрузчики отрабатывают достаточно долго)"
      ]
    },
    {
      "cell_type": "code",
      "execution_count": null,
      "id": "85fa8ba8",
      "metadata": {
        "id": "85fa8ba8"
      },
      "outputs": [],
      "source": [
        "batch_size=4\n",
        "\n",
        "trainloader = torch.utils.data.DataLoader(trainset, batch_size=batch_size,\n",
        "                                          shuffle=True, num_workers=2)\n",
        "testloader = torch.utils.data.DataLoader(testset, batch_size=batch_size,\n",
        "                                         shuffle=False, num_workers=2)"
      ]
    },
    {
      "cell_type": "markdown",
      "id": "1c6a857e",
      "metadata": {
        "id": "1c6a857e"
      },
      "source": [
        "## Визуализация нескольких изображений с метками класса"
      ]
    },
    {
      "cell_type": "code",
      "execution_count": null,
      "id": "10b23cb9",
      "metadata": {
        "id": "10b23cb9",
        "outputId": "4e8c2308-c35b-4ce4-f850-022115c11b17"
      },
      "outputs": [
        {
          "name": "stdout",
          "output_type": "stream",
          "text": [
            "tensor([[[0.0000, 0.0000, 0.0000,  ..., 0.0000, 0.0000, 0.0000],\n",
            "         [0.0000, 0.0000, 0.0000,  ..., 0.0000, 0.0000, 0.0000],\n",
            "         [0.0000, 0.0000, 0.6667,  ..., 0.3608, 0.0000, 0.0000],\n",
            "         ...,\n",
            "         [0.0000, 0.0000, 0.9961,  ..., 0.4667, 0.0000, 0.0000],\n",
            "         [0.0000, 0.0000, 0.0000,  ..., 0.0000, 0.0000, 0.0000],\n",
            "         [0.0000, 0.0000, 0.0000,  ..., 0.0000, 0.0000, 0.0000]],\n",
            "\n",
            "        [[0.0000, 0.0000, 0.0000,  ..., 0.0000, 0.0000, 0.0000],\n",
            "         [0.0000, 0.0000, 0.0000,  ..., 0.0000, 0.0000, 0.0000],\n",
            "         [0.0000, 0.0000, 0.6471,  ..., 0.4824, 0.0000, 0.0000],\n",
            "         ...,\n",
            "         [0.0000, 0.0000, 0.6157,  ..., 0.5294, 0.0000, 0.0000],\n",
            "         [0.0000, 0.0000, 0.0000,  ..., 0.0000, 0.0000, 0.0000],\n",
            "         [0.0000, 0.0000, 0.0000,  ..., 0.0000, 0.0000, 0.0000]],\n",
            "\n",
            "        [[0.0000, 0.0000, 0.0000,  ..., 0.0000, 0.0000, 0.0000],\n",
            "         [0.0000, 0.0000, 0.0000,  ..., 0.0000, 0.0000, 0.0000],\n",
            "         [0.0000, 0.0000, 0.6353,  ..., 0.2745, 0.0000, 0.0000],\n",
            "         ...,\n",
            "         [0.0000, 0.0000, 0.5608,  ..., 0.3373, 0.0000, 0.0000],\n",
            "         [0.0000, 0.0000, 0.0000,  ..., 0.0000, 0.0000, 0.0000],\n",
            "         [0.0000, 0.0000, 0.0000,  ..., 0.0000, 0.0000, 0.0000]]])\n"
          ]
        },
        {
          "data": {
            "image/png": "[encoded data removed]",
            "text/plain": [
              "<Figure size 640x480 with 1 Axes>"
            ]
          },
          "metadata": {},
          "output_type": "display_data"
        },
        {
          "name": "stdout",
          "output_type": "stream",
          "text": [
            "frog  frog  truck horse truck bird  deer  bird \n"
          ]
        }
      ],
      "source": [
        "import matplotlib.pyplot as plt\n",
        "import numpy as np\n",
        "\n",
        "# functions to show an image\n",
        "\n",
        "\n",
        "def imshow(img):\n",
        "    print(img)\n",
        "    npimg = img.numpy()\n",
        "    plt.imshow(np.transpose(npimg, (1, 2, 0)))\n",
        "    plt.show()\n",
        "\n",
        "\n",
        "# get some random training images\n",
        "dataiter = iter(trainloader)\n",
        "images, labels = next(dataiter)\n",
        "\n",
        "# show images\n",
        "imshow(torchvision.utils.make_grid(images))\n",
        "# print labels\n",
        "print(' '.join(f'{classes[labels[j]]:5s}' for j in range(batch_size)))"
      ]
    },
    {
      "cell_type": "markdown",
      "id": "fd49728f",
      "metadata": {
        "id": "fd49728f"
      },
      "source": [
        "## Теперь посмотрим на то, как выглядит картинка в виде массива данных"
      ]
    },
    {
      "cell_type": "code",
      "execution_count": null,
      "id": "75eddfa2",
      "metadata": {
        "id": "75eddfa2",
        "outputId": "85b4a368-13d8-4b0e-80d6-69db3a6c363d"
      },
      "outputs": [
        {
          "data": {
            "text/plain": [
              "tensor([[[0.5529, 0.5725, 0.5804,  ..., 0.5882, 0.4824, 0.4431],\n",
              "         [0.6000, 0.6078, 0.6078,  ..., 0.6078, 0.4706, 0.4157],\n",
              "         [0.5882, 0.5961, 0.5922,  ..., 0.6039, 0.4706, 0.4196],\n",
              "         ...,\n",
              "         [0.2510, 0.2275, 0.2235,  ..., 0.2627, 0.3490, 0.4118],\n",
              "         [0.2235, 0.2275, 0.2549,  ..., 0.3569, 0.4471, 0.5333],\n",
              "         [0.2510, 0.2471, 0.2627,  ..., 0.3216, 0.4902, 0.5373]],\n",
              "\n",
              "        [[0.7412, 0.7490, 0.7490,  ..., 0.7569, 0.6235, 0.5608],\n",
              "         [0.7804, 0.7804, 0.7725,  ..., 0.7765, 0.5961, 0.5020],\n",
              "         [0.7882, 0.7843, 0.7765,  ..., 0.7725, 0.6118, 0.5137],\n",
              "         ...,\n",
              "         [0.2902, 0.2431, 0.2196,  ..., 0.2588, 0.3176, 0.4196],\n",
              "         [0.2314, 0.2314, 0.2549,  ..., 0.3294, 0.4039, 0.5373],\n",
              "         [0.2549, 0.2471, 0.2667,  ..., 0.2902, 0.4510, 0.5490]],\n",
              "\n",
              "        [[0.8235, 0.8235, 0.8235,  ..., 0.8471, 0.6941, 0.6118],\n",
              "         [0.8588, 0.8510, 0.8392,  ..., 0.8667, 0.6471, 0.5255],\n",
              "         [0.8784, 0.8706, 0.8588,  ..., 0.8588, 0.6667, 0.5373],\n",
              "         ...,\n",
              "         [0.2588, 0.2196, 0.2039,  ..., 0.2235, 0.2549, 0.3333],\n",
              "         [0.2157, 0.2196, 0.2275,  ..., 0.2588, 0.2784, 0.4078],\n",
              "         [0.2431, 0.2431, 0.2392,  ..., 0.2196, 0.3294, 0.4235]]])"
            ]
          },
          "execution_count": 62,
          "metadata": {},
          "output_type": "execute_result"
        }
      ],
      "source": [
        "images[0]"
      ]
    },
    {
      "cell_type": "markdown",
      "id": "5dd860bd",
      "metadata": {
        "id": "5dd860bd"
      },
      "source": [
        "### Видно, что картинка-трехканальная"
      ]
    },
    {
      "cell_type": "markdown",
      "id": "b5ae0e22",
      "metadata": {
        "id": "b5ae0e22"
      },
      "source": [
        "# Импорт библиотек из pytorch и реализация класса нейронной сети"
      ]
    },
    {
      "cell_type": "code",
      "execution_count": null,
      "id": "28fce2d0",
      "metadata": {
        "id": "28fce2d0"
      },
      "outputs": [],
      "source": [
        "import torch.nn as nn\n",
        "import torch.nn.functional as F\n",
        "import torch.optim as optim\n",
        "import torch"
      ]
    },
    {
      "cell_type": "markdown",
      "id": "a0da393c",
      "metadata": {
        "id": "a0da393c"
      },
      "source": [
        "## Класс EarlyStopping"
      ]
    },
    {
      "cell_type": "code",
      "execution_count": null,
      "id": "05565386",
      "metadata": {
        "id": "05565386"
      },
      "outputs": [],
      "source": [
        "class EarlyStopping:\n",
        "    def __init__(self, tolerance=5, min_delta=0.01):\n",
        "\n",
        "        self.tolerance = tolerance\n",
        "        self.min_delta = min_delta\n",
        "        self.counter = 0\n",
        "        self.early_stop = False\n",
        "\n",
        "    def __call__(self, losses):\n",
        "        if (losses[0] - losses[1])/losses[0] <= self.min_delta:\n",
        "            self.counter +=1\n",
        "            if self.counter >= self.tolerance:\n",
        "                self.early_stop = True"
      ]
    },
    {
      "cell_type": "markdown",
      "id": "e6b9aace",
      "metadata": {
        "id": "e6b9aace"
      },
      "source": [
        "## Класс нейронной сети. Добавлена возможность выбора слоя свертки, maxpooling, softmax, ошибки crossentropy. По сути, это универсальный каркас, с помощью которого можно решать задачи регрессии и классификации на табличных данных, а также работать с классификацией изображений."
      ]
    },
    {
      "cell_type": "code",
      "execution_count": null,
      "id": "eb811d53",
      "metadata": {
        "id": "eb811d53"
      },
      "outputs": [],
      "source": [
        "class CfarClassifier(nn.Module):\n",
        "    def __init__(self, *args):\n",
        "        super().__init__()\n",
        "        self.previous_shape = args[0].shape if len(args[0].shape) == 3 else args[0][np.newaxis, :].shape\n",
        "        self.layers = nn.ModuleList([self.choose_layer(**arg) for arg in args[1]])\n",
        "        print(args[0].shape)\n",
        "\n",
        "    def forward(self, x):\n",
        "        for layer in self.layers:\n",
        "            x = layer(x)\n",
        "        return x\n",
        "\n",
        "    def predict(self, X):\n",
        "        return [x.argmax() for x in self.forward(X)]\n",
        "\n",
        "    def train(self, X_y, optimizer='Adam', lr=0.001, epochs=100, tolerance=7, min_delta=0.001, batch=None, val_part=0.1):\n",
        "\n",
        "        self.optimizer = self.choose_optimizer(optimizer=optimizer, lr=lr)\n",
        "        self.erls = EarlyStopping(tolerance=tolerance, min_delta=min_delta)\n",
        "        self.loss = self.choose_loss(loss='CrossEntropy')\n",
        "        self.train_epoch_losses = []\n",
        "\n",
        "        for epoch in range(epochs):\n",
        "\n",
        "            step = 0\n",
        "\n",
        "            for i, x_y in enumerate(X_y, 0):\n",
        "                x_batch, y_batch = x_y\n",
        "                step += 1\n",
        "\n",
        "                self.optimizer.zero_grad()\n",
        "\n",
        "                x_batch, y_batch = x_y\n",
        "\n",
        "                preds = self.forward(x_batch)\n",
        "\n",
        "                loss_val = self.loss(preds, y_batch)\n",
        "                loss_val.backward()\n",
        "\n",
        "                self.optimizer.step()\n",
        "\n",
        "            self.train_epoch_losses.append(self.loss(self.forward(x_batch), y_batch).item())\n",
        "\n",
        "            print(f'epoch {epoch + 1}/{epochs}: train_loss={self.train_epoch_losses[-1]}')\n",
        "\n",
        "            if len(self.train_epoch_losses) > 2:\n",
        "                self.erls(self.train_epoch_losses[-2:])\n",
        "                if self.erls.early_stop:\n",
        "                    print(f'Early Stop at epoch {epoch + 1}')\n",
        "                    break\n",
        "\n",
        "        return 0\n",
        "\n",
        "\n",
        "    def choose_layer(self, layer, in_features=None, out_features=None, dropout=None,\n",
        "                     in_channels=None, out_channels=None, kernel=None, stride=None, padding=None):\n",
        "        if layer == 'linear':\n",
        "            assert (in_features is not None) and (out_features is not None) and (dropout is None) and \\\n",
        "            (in_channels is None) and (out_channels is None) and (kernel is None) and \\\n",
        "            (stride is None) and (padding is None)\n",
        "            return nn.Linear(in_features=self.previous_shape if in_features == 'prev' else in_features,\n",
        "                             out_features=out_features, bias=True)\n",
        "        elif layer == 'flatten':\n",
        "            assert (in_features is None) and (out_features is None) and (dropout is None) and \\\n",
        "            (in_channels is None) and (out_channels is None) and (kernel is None) and \\\n",
        "            (stride is None) and (padding is None)\n",
        "            self.previous_shape = math.prod(self.previous_shape)\n",
        "            return nn.Flatten()\n",
        "        elif layer == 'softmax':\n",
        "            assert (in_features is None) and (out_features is None) and (dropout is None) and \\\n",
        "            (in_channels is None) and (out_channels is None) and (kernel is None) and \\\n",
        "            (stride is None) and (padding is None)\n",
        "            return nn.Softmax(dim=1)\n",
        "        elif layer == 'tanh':\n",
        "            assert (in_features is None) and (out_features is None) and (dropout is None) and \\\n",
        "            (in_channels is None) and (out_channels is None) and (kernel is None) and \\\n",
        "            (stride is None) and (padding is None)\n",
        "            return nn.Tanh()\n",
        "        elif layer == 'sigmoid':\n",
        "            assert (in_features is None) and (out_features is None) and (dropout is None) and \\\n",
        "            (in_channels is None) and (out_channels is None) and (kernel is None) and \\\n",
        "            (stride is None) and (padding is None)\n",
        "            return nn.Sigmoid()\n",
        "        elif layer == 'relu':\n",
        "            assert (in_features is None) and (out_features is None) and (dropout is None) and \\\n",
        "            (in_channels is None) and (out_channels is None) and (kernel is None) and \\\n",
        "            (stride is None) and (padding is None)\n",
        "            return nn.ReLU()\n",
        "        elif layer == 'dropout':\n",
        "            assert (in_features is None) and (out_features is None) and (dropout is not None) and \\\n",
        "            (in_channels is None) and (out_channels is None) and (kernel is None) and \\\n",
        "            (stride is None) and (padding is None)\n",
        "            return nn.Dropout(p=dropout)\n",
        "        elif layer == 'conv2d':\n",
        "            assert (in_features is None) and (out_features is None) and (dropout is None) and \\\n",
        "            (in_channels is not None) and (out_channels is not None) and (kernel is not None) and\\\n",
        "            (stride is not None) and (padding is not None)\n",
        "            self.previous_shape = self.calc_out_shape_conv(self.previous_shape[1], self.previous_shape[2],\n",
        "                                                 out_channels, kernel, stride, padding)\n",
        "            return nn.Conv2d(in_channels, out_channels, kernel, stride=stride, padding=padding)\n",
        "        elif layer == 'max_pooling':\n",
        "            assert (in_features is None) and (out_features is None) and (dropout is None) and \\\n",
        "            (in_channels is None) and (out_channels is None) and (kernel is not None) and\\\n",
        "            (stride is not None) and (padding is not None)\n",
        "            self.previous_shape = self.calc_out_shape_pool(self.previous_shape[1], self.previous_shape[2],\n",
        "                                                 self.previous_shape[0], kernel, stride, padding)\n",
        "            return nn.MaxPool2d(kernel, stride=stride, padding=padding)\n",
        "\n",
        "    def calc_out_shape_conv(self, H_in, W_in, out_channels, kernel_size, stride, padding):\n",
        "        H_out = ((H_in - kernel_size + 2 * padding) // stride) + 1\n",
        "        W_out = ((W_in - kernel_size + 2 * padding) // stride) + 1\n",
        "        out_shape = (out_channels, H_out, W_out)\n",
        "\n",
        "        return out_shape\n",
        "\n",
        "    def calc_out_shape_pool(self, H_in, W_in, out_channels, kernel_size, stride, padding):\n",
        "        H_out = ((H_in + 2 * padding - kernel_size) // stride) + 1\n",
        "        W_out = ((W_in + 2 * padding - kernel_size) // stride) + 1\n",
        "        out_shape = (out_channels, H_out, W_out)\n",
        "\n",
        "        return out_shape\n",
        "\n",
        "    def choose_optimizer(self, optimizer='Adam', lr=0.01):\n",
        "        if optimizer=='SGD':\n",
        "            return torch.optim.SGD(self.parameters(), lr=lr)\n",
        "        elif optimizer=='Adam':\n",
        "            return torch.optim.Adam(self.parameters(), lr=lr)\n",
        "        elif optimizer=='RMSprop':\n",
        "            return torch.optim.RMSprop(self.parameters(), lr=lr)\n",
        "\n",
        "    def choose_loss(self, loss='CrossEntropy'):\n",
        "        if loss=='RMSE':\n",
        "            def _rmse(pred, target):\n",
        "                return torch.sqrt(((pred - target) ** 2).mean())\n",
        "            return _rmse\n",
        "        elif loss=='MSE':\n",
        "            def _mse(pred, target):\n",
        "                return ((pred - target) ** 2).mean()\n",
        "            return _mse\n",
        "        elif loss=='MAE':\n",
        "            def _mae(pred, target):\n",
        "                return torch.abs(pred - target).mean()\n",
        "            return _mae\n",
        "        elif loss=='CrossEntropy':\n",
        "            return nn.CrossEntropyLoss()"
      ]
    },
    {
      "cell_type": "markdown",
      "id": "66c154bf",
      "metadata": {
        "id": "66c154bf"
      },
      "source": [
        "# Инициализация нейронной сети."
      ]
    },
    {
      "cell_type": "code",
      "execution_count": null,
      "id": "b74b82c3",
      "metadata": {
        "id": "b74b82c3",
        "outputId": "75a99433-4639-4f4a-e85a-f3dd9c57ca32"
      },
      "outputs": [
        {
          "name": "stdout",
          "output_type": "stream",
          "text": [
            "torch.Size([3, 32, 32])\n"
          ]
        }
      ],
      "source": [
        "dataiter = iter(trainloader)\n",
        "images, labels = next(dataiter)\n",
        "Adam_network = CfarClassifier(images[0],\n",
        "                               (dict(layer='conv2d', in_channels=3, out_channels=6, kernel=5, stride=1, padding=0),\n",
        "                                dict(layer='relu'),\n",
        "                                dict(layer='max_pooling', kernel=2, stride=1, padding=0),\n",
        "                                dict(layer='conv2d', in_channels=6, out_channels=16, kernel=5, stride=1, padding=0),\n",
        "                                dict(layer='relu'),\n",
        "                                dict(layer='max_pooling', kernel=2, stride=1, padding=0),\n",
        "                                dict(layer='flatten'),\n",
        "                                dict(layer='linear', in_features='prev', out_features=120),\n",
        "                                dict(layer='relu'),\n",
        "                                dict(layer='linear', in_features=120, out_features=84),\n",
        "                                dict(layer='relu'),\n",
        "                                dict(layer='linear', in_features=84, out_features=10)))"
      ]
    },
    {
      "cell_type": "markdown",
      "id": "7dfa1a78",
      "metadata": {
        "id": "7dfa1a78"
      },
      "source": [
        "## Обучение нейронной сети с оптимизатором Adam"
      ]
    },
    {
      "cell_type": "code",
      "execution_count": null,
      "id": "3cff956d",
      "metadata": {
        "scrolled": false,
        "id": "3cff956d",
        "outputId": "080dd972-123c-4fec-fcaa-9dcf02b28f76"
      },
      "outputs": [
        {
          "name": "stdout",
          "output_type": "stream",
          "text": [
            "epoch 1/100: train_loss=1.3182036876678467\n",
            "epoch 2/100: train_loss=1.0261229276657104\n",
            "epoch 3/100: train_loss=1.010232925415039\n",
            "epoch 4/100: train_loss=1.2957909107208252\n",
            "epoch 5/100: train_loss=0.5871378183364868\n",
            "epoch 6/100: train_loss=0.20551472902297974\n",
            "epoch 7/100: train_loss=0.3074181079864502\n",
            "epoch 8/100: train_loss=0.37823963165283203\n",
            "epoch 9/100: train_loss=0.8245628476142883\n",
            "epoch 10/100: train_loss=0.8905535340309143\n",
            "epoch 11/100: train_loss=1.1096808910369873\n",
            "epoch 12/100: train_loss=0.1937500685453415\n",
            "epoch 13/100: train_loss=0.46251294016838074\n",
            "Early Stop at epoch 13\n"
          ]
        },
        {
          "data": {
            "text/plain": [
              "0"
            ]
          },
          "execution_count": 101,
          "metadata": {},
          "output_type": "execute_result"
        }
      ],
      "source": [
        "Adam_network.train(trainloader)"
      ]
    },
    {
      "cell_type": "markdown",
      "id": "829f1dec",
      "metadata": {
        "id": "829f1dec"
      },
      "source": [
        "## Обучение нейронной сети с оптимизатором SGD"
      ]
    },
    {
      "cell_type": "code",
      "execution_count": null,
      "id": "95d0cd26",
      "metadata": {
        "id": "95d0cd26",
        "outputId": "f0c715ee-5369-47f0-e706-772918121b13"
      },
      "outputs": [
        {
          "name": "stdout",
          "output_type": "stream",
          "text": [
            "torch.Size([3, 32, 32])\n",
            "epoch 1/100: train_loss=2.199282646179199\n",
            "epoch 2/100: train_loss=1.8057489395141602\n",
            "epoch 3/100: train_loss=0.7504534125328064\n",
            "epoch 4/100: train_loss=1.1761903762817383\n",
            "epoch 5/100: train_loss=1.4780750274658203\n",
            "epoch 6/100: train_loss=0.816305935382843\n",
            "epoch 7/100: train_loss=1.0095034837722778\n",
            "epoch 8/100: train_loss=1.1481159925460815\n",
            "epoch 9/100: train_loss=0.6402647495269775\n",
            "epoch 10/100: train_loss=0.17170479893684387\n",
            "epoch 11/100: train_loss=1.1992450952529907\n",
            "epoch 12/100: train_loss=1.275217056274414\n",
            "epoch 13/100: train_loss=0.15955255925655365\n",
            "epoch 14/100: train_loss=0.7863974571228027\n",
            "Early Stop at epoch 14\n"
          ]
        },
        {
          "data": {
            "text/plain": [
              "0"
            ]
          },
          "execution_count": 102,
          "metadata": {},
          "output_type": "execute_result"
        }
      ],
      "source": [
        "SGD_network = CfarClassifier(images[0],\n",
        "                               (dict(layer='conv2d', in_channels=3, out_channels=6, kernel=5, stride=1, padding=0),\n",
        "                                dict(layer='relu'),\n",
        "                                dict(layer='max_pooling', kernel=2, stride=1, padding=0),\n",
        "                                dict(layer='conv2d', in_channels=6, out_channels=16, kernel=5, stride=1, padding=0),\n",
        "                                dict(layer='relu'),\n",
        "                                dict(layer='max_pooling', kernel=2, stride=1, padding=0),\n",
        "                                dict(layer='flatten'),\n",
        "                                dict(layer='linear', in_features='prev', out_features=120),\n",
        "                                dict(layer='relu'),\n",
        "                                dict(layer='linear', in_features=120, out_features=84),\n",
        "                                dict(layer='relu'),\n",
        "                                dict(layer='linear', in_features=84, out_features=10)))\n",
        "\n",
        "SGD_network.train(trainloader, optimizer='SGD')"
      ]
    },
    {
      "cell_type": "markdown",
      "id": "699fedc6",
      "metadata": {
        "id": "699fedc6"
      },
      "source": [
        "# Оценка на тестовом множестве"
      ]
    },
    {
      "cell_type": "code",
      "execution_count": null,
      "id": "2ddd24c3",
      "metadata": {
        "id": "2ddd24c3",
        "outputId": "182ff821-c7a4-467f-f629-d7b3b84a9bea"
      },
      "outputs": [
        {
          "name": "stdout",
          "output_type": "stream",
          "text": [
            "Accuracy of the network on the 10000 test images: 53 %\n",
            "\n",
            "\n",
            "Accuracy for class: plane is 65.5 %\n",
            "Accuracy for class: car   is 59.6 %\n",
            "Accuracy for class: bird  is 38.6 %\n",
            "Accuracy for class: cat   is 30.6 %\n",
            "Accuracy for class: deer  is 53.3 %\n",
            "Accuracy for class: dog   is 40.0 %\n",
            "Accuracy for class: frog  is 70.3 %\n",
            "Accuracy for class: horse is 55.2 %\n",
            "Accuracy for class: ship  is 58.4 %\n",
            "Accuracy for class: truck is 61.0 %\n"
          ]
        }
      ],
      "source": [
        "# Adam\n",
        "\n",
        "# prepare to count predictions for each class\n",
        "correct_pred = {classname: 0 for classname in classes}\n",
        "total_pred = {classname: 0 for classname in classes}\n",
        "\n",
        "correct = 0\n",
        "total = 0\n",
        "\n",
        "# again no gradients needed\n",
        "with torch.no_grad():\n",
        "    for data in testloader:\n",
        "        images, labels = data\n",
        "        predictions = Adam_network.predict(images)\n",
        "        # collect the correct predictions for each class\n",
        "        for label, prediction in zip(labels, predictions):\n",
        "            if label == prediction:\n",
        "                correct_pred[classes[label]] += 1\n",
        "            total_pred[classes[label]] += 1\n",
        "        total += labels.size(0)\n",
        "        for pred, true in zip(predictions, labels):\n",
        "            if pred == true:\n",
        "                correct += 1\n",
        "\n",
        "print(f'Accuracy of the network on the 10000 test images: {100 * correct // total} %\\n\\n')\n",
        "# print accuracy for each class\n",
        "for classname, correct_count in correct_pred.items():\n",
        "    accuracy = 100 * float(correct_count) / total_pred[classname]\n",
        "    print(f'Accuracy for class: {classname:5s} is {accuracy:.1f} %')"
      ]
    },
    {
      "cell_type": "code",
      "execution_count": null,
      "id": "7d4bf7a8",
      "metadata": {
        "id": "7d4bf7a8",
        "outputId": "9eb04a1f-47fd-4066-a93d-e48092c101f3"
      },
      "outputs": [
        {
          "name": "stdout",
          "output_type": "stream",
          "text": [
            "Accuracy of the network on the 10000 test images: 57 %\n",
            "\n",
            "\n",
            "Accuracy for class: plane is 61.3 %\n",
            "Accuracy for class: car   is 64.7 %\n",
            "Accuracy for class: bird  is 49.1 %\n",
            "Accuracy for class: cat   is 39.8 %\n",
            "Accuracy for class: deer  is 51.6 %\n",
            "Accuracy for class: dog   is 35.9 %\n",
            "Accuracy for class: frog  is 53.8 %\n",
            "Accuracy for class: horse is 75.6 %\n",
            "Accuracy for class: ship  is 73.5 %\n",
            "Accuracy for class: truck is 68.2 %\n"
          ]
        }
      ],
      "source": [
        "# SGD\n",
        "\n",
        "# prepare to count predictions for each class\n",
        "correct_pred = {classname: 0 for classname in classes}\n",
        "total_pred = {classname: 0 for classname in classes}\n",
        "\n",
        "correct = 0\n",
        "total = 0\n",
        "\n",
        "# again no gradients needed\n",
        "with torch.no_grad():\n",
        "    for data in testloader:\n",
        "        images, labels = data\n",
        "        predictions = SGD_network.predict(images)\n",
        "        # collect the correct predictions for each class\n",
        "        for label, prediction in zip(labels, predictions):\n",
        "            if label == prediction:\n",
        "                correct_pred[classes[label]] += 1\n",
        "            total_pred[classes[label]] += 1\n",
        "        total += labels.size(0)\n",
        "        for pred, true in zip(predictions, labels):\n",
        "            if pred == true:\n",
        "                correct += 1\n",
        "\n",
        "print(f'Accuracy of the network on the 10000 test images: {100 * correct // total} %\\n\\n')\n",
        "# print accuracy for each class\n",
        "for classname, correct_count in correct_pred.items():\n",
        "    accuracy = 100 * float(correct_count) / total_pred[classname]\n",
        "    print(f'Accuracy for class: {classname:5s} is {accuracy:.1f} %')"
      ]
    }
  ],
  "metadata": {
    "kernelspec": {
      "display_name": "Python 3 (ipykernel)",
      "language": "python",
      "name": "python3"
    },
    "language_info": {
      "codemirror_mode": {
        "name": "ipython",
        "version": 3
      },
      "file_extension": ".py",
      "mimetype": "text/x-python",
      "name": "python",
      "nbconvert_exporter": "python",
      "pygments_lexer": "ipython3",
      "version": "3.11.5"
    },
    "colab": {
      "provenance": []
    }
  },
  "nbformat": 4,
  "nbformat_minor": 5
}